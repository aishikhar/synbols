{
 "cells": [
  {
   "cell_type": "code",
   "execution_count": null,
   "source": [
    "# Some imports and utils.\n",
    "\n",
    "import synbols\n",
    "from synbols.data_io import pack_dataset\n",
    "from synbols import generate\n",
    "from synbols import drawing\n",
    "\n",
    "from synbols.visualization import plot_dataset\n",
    "from pprint import pprint\n",
    "import matplotlib.pyplot as plt\n",
    "%matplotlib inline\n",
    "def show_ds(attr_sampler, verbose=False, show_mask=False):\n",
    "    \"\"\"Generate and show a Synbols dataset from an attribute sampler.\"\"\"\n",
    "    x, mask, y = pack_dataset(generate.dataset_generator(attr_sampler, 100, generate.flatten_mask))\n",
    "    if verbose:\n",
    "        print(\"Example of a label\")\n",
    "        pprint(y[0])\n",
    "\n",
    "    plt.figure('dataset', figsize=[5, 5])\n",
    "    plot_dataset(x, y,h_axis=None,v_axis=None, n_row=10, n_col=10)\n",
    "\n",
    "    plt.show()\n",
    "    if show_mask:\n",
    "        plt.figure('dataset', figsize=[5, 5])\n",
    "        plot_dataset(mask, y,h_axis=None,v_axis=None, n_row=10, n_col=10)\n",
    "\n",
    "        plt.show()"
   ],
   "outputs": [],
   "metadata": {}
  },
  {
   "cell_type": "code",
   "execution_count": null,
   "source": [],
   "outputs": [],
   "metadata": {}
  }
 ],
 "metadata": {
  "orig_nbformat": 4,
  "language_info": {
   "name": "python"
  }
 },
 "nbformat": 4,
 "nbformat_minor": 2
}